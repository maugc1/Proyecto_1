{
 "cells": [
  {
   "cell_type": "markdown",
   "id": "aab49e53",
   "metadata": {},
   "source": [
    "# W2-Sharks-Clean-Project"
   ]
  },
  {
   "cell_type": "markdown",
   "id": "48c9c226",
   "metadata": {},
   "source": [
    "### Importación y carga de Datos"
   ]
  },
  {
   "cell_type": "code",
   "execution_count": 1,
   "id": "e49c6f3b",
   "metadata": {},
   "outputs": [],
   "source": [
    "import pandas as pd\n",
    "import numpy as np\n",
    "import warnings\n",
    "warnings.filterwarnings('ignore')  # para quitar warnings\n",
    "pd.set_option('display.max_columns', None) # muestra todas las columnas del df.head()\n",
    "#pd.set_option('display.max_rows', None) # muestra todas las columnas del df.head()\n",
    "data=pd.read_csv('attacks.csv',encoding='windows-1252')\n",
    "data.columns=[c.replace(' ', '_') for c in data.columns]\n",
    "data.columns=[c.replace('.', '_') for c in data.columns]\n",
    "data.columns=[c.replace(':', '') for c in data.columns]\n",
    "data.columns=[c.replace('/', 'O') for c in data.columns]\n",
    "data.columns=[c.replace('(', '') for c in data.columns]\n",
    "data.columns=[c.replace(')', '') for c in data.columns]"
   ]
  },
  {
   "cell_type": "code",
   "execution_count": 2,
   "id": "5f4e3402",
   "metadata": {},
   "outputs": [],
   "source": [
    "data=pd.read_csv('attacks.csv',encoding='windows-1252')\n",
    "data.columns=[c.replace(' ', '_') for c in data.columns]\n",
    "data.columns=[c.replace('.', '_') for c in data.columns]\n",
    "data.columns=[c.replace(':', '') for c in data.columns]\n",
    "data.columns=[c.replace('/', 'O') for c in data.columns]\n",
    "data.columns=[c.replace('(', '') for c in data.columns]\n",
    "data.columns=[c.replace(')', '') for c in data.columns]"
   ]
  },
  {
   "cell_type": "code",
   "execution_count": 3,
   "id": "597b8b1c",
   "metadata": {},
   "outputs": [
    {
     "data": {
      "text/html": [
       "<div>\n",
       "<style scoped>\n",
       "    .dataframe tbody tr th:only-of-type {\n",
       "        vertical-align: middle;\n",
       "    }\n",
       "\n",
       "    .dataframe tbody tr th {\n",
       "        vertical-align: top;\n",
       "    }\n",
       "\n",
       "    .dataframe thead th {\n",
       "        text-align: right;\n",
       "    }\n",
       "</style>\n",
       "<table border=\"1\" class=\"dataframe\">\n",
       "  <thead>\n",
       "    <tr style=\"text-align: right;\">\n",
       "      <th></th>\n",
       "      <th>Case_Number</th>\n",
       "      <th>Date</th>\n",
       "      <th>Year</th>\n",
       "      <th>Type</th>\n",
       "      <th>Country</th>\n",
       "      <th>Area</th>\n",
       "      <th>Location</th>\n",
       "      <th>Activity</th>\n",
       "      <th>Name</th>\n",
       "      <th>Sex_</th>\n",
       "      <th>Age</th>\n",
       "      <th>Injury</th>\n",
       "      <th>Fatal_YON</th>\n",
       "      <th>Time</th>\n",
       "      <th>Species_</th>\n",
       "      <th>Investigator_or_Source</th>\n",
       "      <th>pdf</th>\n",
       "      <th>href_formula</th>\n",
       "      <th>href</th>\n",
       "      <th>Case_Number_1</th>\n",
       "      <th>Case_Number_2</th>\n",
       "      <th>original_order</th>\n",
       "      <th>Unnamed_22</th>\n",
       "      <th>Unnamed_23</th>\n",
       "    </tr>\n",
       "  </thead>\n",
       "  <tbody>\n",
       "    <tr>\n",
       "      <th>0</th>\n",
       "      <td>2018.06.25</td>\n",
       "      <td>25-Jun-2018</td>\n",
       "      <td>2018.0</td>\n",
       "      <td>Boating</td>\n",
       "      <td>USA</td>\n",
       "      <td>California</td>\n",
       "      <td>Oceanside, San Diego County</td>\n",
       "      <td>Paddling</td>\n",
       "      <td>Julie Wolfe</td>\n",
       "      <td>F</td>\n",
       "      <td>57</td>\n",
       "      <td>No injury to occupant, outrigger canoe and pad...</td>\n",
       "      <td>N</td>\n",
       "      <td>18h00</td>\n",
       "      <td>White shark</td>\n",
       "      <td>R. Collier, GSAF</td>\n",
       "      <td>2018.06.25-Wolfe.pdf</td>\n",
       "      <td>http://sharkattackfile.net/spreadsheets/pdf_di...</td>\n",
       "      <td>http://sharkattackfile.net/spreadsheets/pdf_di...</td>\n",
       "      <td>2018.06.25</td>\n",
       "      <td>2018.06.25</td>\n",
       "      <td>6303.0</td>\n",
       "      <td>NaN</td>\n",
       "      <td>NaN</td>\n",
       "    </tr>\n",
       "    <tr>\n",
       "      <th>1</th>\n",
       "      <td>2018.06.18</td>\n",
       "      <td>18-Jun-2018</td>\n",
       "      <td>2018.0</td>\n",
       "      <td>Unprovoked</td>\n",
       "      <td>USA</td>\n",
       "      <td>Georgia</td>\n",
       "      <td>St. Simon Island, Glynn County</td>\n",
       "      <td>Standing</td>\n",
       "      <td>Adyson McNeely</td>\n",
       "      <td>F</td>\n",
       "      <td>11</td>\n",
       "      <td>Minor injury to left thigh</td>\n",
       "      <td>N</td>\n",
       "      <td>14h00  -15h00</td>\n",
       "      <td>NaN</td>\n",
       "      <td>K.McMurray, TrackingSharks.com</td>\n",
       "      <td>2018.06.18-McNeely.pdf</td>\n",
       "      <td>http://sharkattackfile.net/spreadsheets/pdf_di...</td>\n",
       "      <td>http://sharkattackfile.net/spreadsheets/pdf_di...</td>\n",
       "      <td>2018.06.18</td>\n",
       "      <td>2018.06.18</td>\n",
       "      <td>6302.0</td>\n",
       "      <td>NaN</td>\n",
       "      <td>NaN</td>\n",
       "    </tr>\n",
       "    <tr>\n",
       "      <th>2</th>\n",
       "      <td>2018.06.09</td>\n",
       "      <td>09-Jun-2018</td>\n",
       "      <td>2018.0</td>\n",
       "      <td>Invalid</td>\n",
       "      <td>USA</td>\n",
       "      <td>Hawaii</td>\n",
       "      <td>Habush, Oahu</td>\n",
       "      <td>Surfing</td>\n",
       "      <td>John Denges</td>\n",
       "      <td>M</td>\n",
       "      <td>48</td>\n",
       "      <td>Injury to left lower leg from surfboard skeg</td>\n",
       "      <td>N</td>\n",
       "      <td>07h45</td>\n",
       "      <td>NaN</td>\n",
       "      <td>K.McMurray, TrackingSharks.com</td>\n",
       "      <td>2018.06.09-Denges.pdf</td>\n",
       "      <td>http://sharkattackfile.net/spreadsheets/pdf_di...</td>\n",
       "      <td>http://sharkattackfile.net/spreadsheets/pdf_di...</td>\n",
       "      <td>2018.06.09</td>\n",
       "      <td>2018.06.09</td>\n",
       "      <td>6301.0</td>\n",
       "      <td>NaN</td>\n",
       "      <td>NaN</td>\n",
       "    </tr>\n",
       "    <tr>\n",
       "      <th>3</th>\n",
       "      <td>2018.06.08</td>\n",
       "      <td>08-Jun-2018</td>\n",
       "      <td>2018.0</td>\n",
       "      <td>Unprovoked</td>\n",
       "      <td>AUSTRALIA</td>\n",
       "      <td>New South Wales</td>\n",
       "      <td>Arrawarra Headland</td>\n",
       "      <td>Surfing</td>\n",
       "      <td>male</td>\n",
       "      <td>M</td>\n",
       "      <td>NaN</td>\n",
       "      <td>Minor injury to lower leg</td>\n",
       "      <td>N</td>\n",
       "      <td>NaN</td>\n",
       "      <td>2 m shark</td>\n",
       "      <td>B. Myatt, GSAF</td>\n",
       "      <td>2018.06.08-Arrawarra.pdf</td>\n",
       "      <td>http://sharkattackfile.net/spreadsheets/pdf_di...</td>\n",
       "      <td>http://sharkattackfile.net/spreadsheets/pdf_di...</td>\n",
       "      <td>2018.06.08</td>\n",
       "      <td>2018.06.08</td>\n",
       "      <td>6300.0</td>\n",
       "      <td>NaN</td>\n",
       "      <td>NaN</td>\n",
       "    </tr>\n",
       "    <tr>\n",
       "      <th>4</th>\n",
       "      <td>2018.06.04</td>\n",
       "      <td>04-Jun-2018</td>\n",
       "      <td>2018.0</td>\n",
       "      <td>Provoked</td>\n",
       "      <td>MEXICO</td>\n",
       "      <td>Colima</td>\n",
       "      <td>La Ticla</td>\n",
       "      <td>Free diving</td>\n",
       "      <td>Gustavo Ramos</td>\n",
       "      <td>M</td>\n",
       "      <td>NaN</td>\n",
       "      <td>Lacerations to leg &amp; hand shark PROVOKED INCIDENT</td>\n",
       "      <td>N</td>\n",
       "      <td>NaN</td>\n",
       "      <td>Tiger shark, 3m</td>\n",
       "      <td>A .Kipper</td>\n",
       "      <td>2018.06.04-Ramos.pdf</td>\n",
       "      <td>http://sharkattackfile.net/spreadsheets/pdf_di...</td>\n",
       "      <td>http://sharkattackfile.net/spreadsheets/pdf_di...</td>\n",
       "      <td>2018.06.04</td>\n",
       "      <td>2018.06.04</td>\n",
       "      <td>6299.0</td>\n",
       "      <td>NaN</td>\n",
       "      <td>NaN</td>\n",
       "    </tr>\n",
       "  </tbody>\n",
       "</table>\n",
       "</div>"
      ],
      "text/plain": [
       "  Case_Number         Date    Year        Type    Country             Area  \\\n",
       "0  2018.06.25  25-Jun-2018  2018.0     Boating        USA       California   \n",
       "1  2018.06.18  18-Jun-2018  2018.0  Unprovoked        USA          Georgia   \n",
       "2  2018.06.09  09-Jun-2018  2018.0     Invalid        USA           Hawaii   \n",
       "3  2018.06.08  08-Jun-2018  2018.0  Unprovoked  AUSTRALIA  New South Wales   \n",
       "4  2018.06.04  04-Jun-2018  2018.0    Provoked     MEXICO           Colima   \n",
       "\n",
       "                         Location     Activity             Name Sex_  Age  \\\n",
       "0     Oceanside, San Diego County     Paddling      Julie Wolfe    F   57   \n",
       "1  St. Simon Island, Glynn County     Standing  Adyson McNeely     F   11   \n",
       "2                    Habush, Oahu      Surfing      John Denges    M   48   \n",
       "3              Arrawarra Headland      Surfing             male    M  NaN   \n",
       "4                        La Ticla  Free diving   Gustavo Ramos     M  NaN   \n",
       "\n",
       "                                              Injury Fatal_YON           Time  \\\n",
       "0  No injury to occupant, outrigger canoe and pad...         N          18h00   \n",
       "1                         Minor injury to left thigh         N  14h00  -15h00   \n",
       "2       Injury to left lower leg from surfboard skeg         N          07h45   \n",
       "3                          Minor injury to lower leg         N            NaN   \n",
       "4  Lacerations to leg & hand shark PROVOKED INCIDENT         N            NaN   \n",
       "\n",
       "          Species_          Investigator_or_Source                       pdf  \\\n",
       "0      White shark                R. Collier, GSAF      2018.06.25-Wolfe.pdf   \n",
       "1              NaN  K.McMurray, TrackingSharks.com    2018.06.18-McNeely.pdf   \n",
       "2              NaN  K.McMurray, TrackingSharks.com     2018.06.09-Denges.pdf   \n",
       "3        2 m shark                  B. Myatt, GSAF  2018.06.08-Arrawarra.pdf   \n",
       "4  Tiger shark, 3m                       A .Kipper      2018.06.04-Ramos.pdf   \n",
       "\n",
       "                                        href_formula  \\\n",
       "0  http://sharkattackfile.net/spreadsheets/pdf_di...   \n",
       "1  http://sharkattackfile.net/spreadsheets/pdf_di...   \n",
       "2  http://sharkattackfile.net/spreadsheets/pdf_di...   \n",
       "3  http://sharkattackfile.net/spreadsheets/pdf_di...   \n",
       "4  http://sharkattackfile.net/spreadsheets/pdf_di...   \n",
       "\n",
       "                                                href Case_Number_1  \\\n",
       "0  http://sharkattackfile.net/spreadsheets/pdf_di...    2018.06.25   \n",
       "1  http://sharkattackfile.net/spreadsheets/pdf_di...    2018.06.18   \n",
       "2  http://sharkattackfile.net/spreadsheets/pdf_di...    2018.06.09   \n",
       "3  http://sharkattackfile.net/spreadsheets/pdf_di...    2018.06.08   \n",
       "4  http://sharkattackfile.net/spreadsheets/pdf_di...    2018.06.04   \n",
       "\n",
       "  Case_Number_2  original_order Unnamed_22 Unnamed_23  \n",
       "0    2018.06.25          6303.0        NaN        NaN  \n",
       "1    2018.06.18          6302.0        NaN        NaN  \n",
       "2    2018.06.09          6301.0        NaN        NaN  \n",
       "3    2018.06.08          6300.0        NaN        NaN  \n",
       "4    2018.06.04          6299.0        NaN        NaN  "
      ]
     },
     "execution_count": 3,
     "metadata": {},
     "output_type": "execute_result"
    }
   ],
   "source": [
    "data.head()"
   ]
  },
  {
   "cell_type": "markdown",
   "id": "fbd657d1",
   "metadata": {},
   "source": [
    "### Exploración"
   ]
  },
  {
   "cell_type": "code",
   "execution_count": 4,
   "id": "3a185b80",
   "metadata": {},
   "outputs": [
    {
     "data": {
      "text/plain": [
       "(25723, 24)"
      ]
     },
     "execution_count": 4,
     "metadata": {},
     "output_type": "execute_result"
    }
   ],
   "source": [
    "data_original = data.shape\n",
    "data.shape"
   ]
  },
  {
   "cell_type": "code",
   "execution_count": 5,
   "id": "b097668b",
   "metadata": {},
   "outputs": [
    {
     "data": {
      "text/plain": [
       "Index(['Case_Number', 'Date', 'Year', 'Type', 'Country', 'Area', 'Location',\n",
       "       'Activity', 'Name', 'Sex_', 'Age', 'Injury', 'Fatal_YON', 'Time',\n",
       "       'Species_', 'Investigator_or_Source', 'pdf', 'href_formula', 'href',\n",
       "       'Case_Number_1', 'Case_Number_2', 'original_order', 'Unnamed_22',\n",
       "       'Unnamed_23'],\n",
       "      dtype='object')"
      ]
     },
     "execution_count": 5,
     "metadata": {},
     "output_type": "execute_result"
    }
   ],
   "source": [
    "data.columns"
   ]
  },
  {
   "cell_type": "code",
   "execution_count": 6,
   "id": "d65a2b64",
   "metadata": {},
   "outputs": [
    {
     "name": "stdout",
     "output_type": "stream",
     "text": [
      "<class 'pandas.core.frame.DataFrame'>\n",
      "RangeIndex: 25723 entries, 0 to 25722\n",
      "Data columns (total 24 columns):\n",
      " #   Column                  Non-Null Count  Dtype  \n",
      "---  ------                  --------------  -----  \n",
      " 0   Case_Number             8702 non-null   object \n",
      " 1   Date                    6302 non-null   object \n",
      " 2   Year                    6300 non-null   float64\n",
      " 3   Type                    6298 non-null   object \n",
      " 4   Country                 6252 non-null   object \n",
      " 5   Area                    5847 non-null   object \n",
      " 6   Location                5762 non-null   object \n",
      " 7   Activity                5758 non-null   object \n",
      " 8   Name                    6092 non-null   object \n",
      " 9   Sex_                    5737 non-null   object \n",
      " 10  Age                     3471 non-null   object \n",
      " 11  Injury                  6274 non-null   object \n",
      " 12  Fatal_YON               5763 non-null   object \n",
      " 13  Time                    2948 non-null   object \n",
      " 14  Species_                3464 non-null   object \n",
      " 15  Investigator_or_Source  6285 non-null   object \n",
      " 16  pdf                     6302 non-null   object \n",
      " 17  href_formula            6301 non-null   object \n",
      " 18  href                    6302 non-null   object \n",
      " 19  Case_Number_1           6302 non-null   object \n",
      " 20  Case_Number_2           6302 non-null   object \n",
      " 21  original_order          6309 non-null   float64\n",
      " 22  Unnamed_22              1 non-null      object \n",
      " 23  Unnamed_23              2 non-null      object \n",
      "dtypes: float64(2), object(22)\n",
      "memory usage: 4.7+ MB\n"
     ]
    }
   ],
   "source": [
    "data.info()"
   ]
  },
  {
   "cell_type": "code",
   "execution_count": 7,
   "id": "0bb2c094",
   "metadata": {},
   "outputs": [
    {
     "data": {
      "text/plain": [
       "Case_Number               17021\n",
       "Date                      19421\n",
       "Year                      19423\n",
       "Type                      19425\n",
       "Country                   19471\n",
       "Area                      19876\n",
       "Location                  19961\n",
       "Activity                  19965\n",
       "Name                      19631\n",
       "Sex_                      19986\n",
       "Age                       22252\n",
       "Injury                    19449\n",
       "Fatal_YON                 19960\n",
       "Time                      22775\n",
       "Species_                  22259\n",
       "Investigator_or_Source    19438\n",
       "pdf                       19421\n",
       "href_formula              19422\n",
       "href                      19421\n",
       "Case_Number_1             19421\n",
       "Case_Number_2             19421\n",
       "original_order            19414\n",
       "Unnamed_22                25722\n",
       "Unnamed_23                25721\n",
       "dtype: int64"
      ]
     },
     "execution_count": 7,
     "metadata": {},
     "output_type": "execute_result"
    }
   ],
   "source": [
    "null_col=data.isnull().sum()\n",
    "null_col[null_col>0]"
   ]
  },
  {
   "cell_type": "markdown",
   "id": "767fb190",
   "metadata": {},
   "source": [
    "### Limpieza de Datos "
   ]
  },
  {
   "cell_type": "code",
   "execution_count": 8,
   "id": "957c3b82",
   "metadata": {},
   "outputs": [
    {
     "data": {
      "text/plain": [
       "0         2\n",
       "1         3\n",
       "2         3\n",
       "3         4\n",
       "4         4\n",
       "         ..\n",
       "25718    24\n",
       "25719    24\n",
       "25720    24\n",
       "25721    24\n",
       "25722    23\n",
       "Length: 25723, dtype: int64"
      ]
     },
     "execution_count": 8,
     "metadata": {},
     "output_type": "execute_result"
    }
   ],
   "source": [
    "#¿Qué filas tienen valores nulos y cuántos?\n",
    "data.isnull().sum(axis=1)"
   ]
  },
  {
   "cell_type": "code",
   "execution_count": 9,
   "id": "9289c104",
   "metadata": {},
   "outputs": [],
   "source": [
    "#Eliminar las filas con más de 20 valores nulos y sobreescribir el dataframe \n",
    "data = data.drop(data[data.isnull().sum(axis=1) > ].index)"
   ]
  },
  {
   "cell_type": "code",
   "execution_count": 10,
   "id": "8151d333",
   "metadata": {},
   "outputs": [
    {
     "data": {
      "text/plain": [
       "(5334, 24)"
      ]
     },
     "execution_count": 10,
     "metadata": {},
     "output_type": "execute_result"
    }
   ],
   "source": [
    "data.shape"
   ]
  },
  {
   "cell_type": "code",
   "execution_count": 11,
   "id": "bc3edfae",
   "metadata": {},
   "outputs": [
    {
     "name": "stdout",
     "output_type": "stream",
     "text": [
      "<class 'pandas.core.frame.DataFrame'>\n",
      "Int64Index: 5334 entries, 0 to 6301\n",
      "Data columns (total 24 columns):\n",
      " #   Column                  Non-Null Count  Dtype  \n",
      "---  ------                  --------------  -----  \n",
      " 0   Case_Number             5334 non-null   object \n",
      " 1   Date                    5334 non-null   object \n",
      " 2   Year                    5334 non-null   float64\n",
      " 3   Type                    5333 non-null   object \n",
      " 4   Country                 5332 non-null   object \n",
      " 5   Area                    5231 non-null   object \n",
      " 6   Location                5190 non-null   object \n",
      " 7   Activity                5181 non-null   object \n",
      " 8   Name                    5310 non-null   object \n",
      " 9   Sex_                    5117 non-null   object \n",
      " 10  Age                     3405 non-null   object \n",
      " 11  Injury                  5332 non-null   object \n",
      " 12  Fatal_YON               4972 non-null   object \n",
      " 13  Time                    2912 non-null   object \n",
      " 14  Species_                3195 non-null   object \n",
      " 15  Investigator_or_Source  5329 non-null   object \n",
      " 16  pdf                     5334 non-null   object \n",
      " 17  href_formula            5333 non-null   object \n",
      " 18  href                    5334 non-null   object \n",
      " 19  Case_Number_1           5334 non-null   object \n",
      " 20  Case_Number_2           5334 non-null   object \n",
      " 21  original_order          5334 non-null   float64\n",
      " 22  Unnamed_22              1 non-null      object \n",
      " 23  Unnamed_23              2 non-null      object \n",
      "dtypes: float64(2), object(22)\n",
      "memory usage: 1.0+ MB\n"
     ]
    }
   ],
   "source": [
    "#Rellenar espacios en blancos en nombres de las columnas\n",
    "data.columns=[c.replace(' ', '_') for c in data.columns]\n",
    "data.info()"
   ]
  },
  {
   "cell_type": "markdown",
   "id": "3f92f733",
   "metadata": {},
   "source": [
    "### Eliminar filas de Fatal\n"
   ]
  },
  {
   "cell_type": "code",
   "execution_count": 12,
   "id": "9d9bf302",
   "metadata": {},
   "outputs": [
    {
     "data": {
      "text/plain": [
       "Int64Index([  27,   76,   79,   84,   98,  107,  115,  125,  145,  153,\n",
       "            ...\n",
       "            5957, 5988, 5989, 6005, 6012, 6014, 6035, 6046, 6088, 6232],\n",
       "           dtype='int64', length=362)"
      ]
     },
     "execution_count": 12,
     "metadata": {},
     "output_type": "execute_result"
    }
   ],
   "source": [
    "index_YON=data[data['Fatal_YON'].isna()].index\n",
    "index_YON"
   ]
  },
  {
   "cell_type": "code",
   "execution_count": 13,
   "id": "5be65b20",
   "metadata": {},
   "outputs": [],
   "source": [
    "data.drop(index=index_YON,inplace=True)"
   ]
  },
  {
   "cell_type": "code",
   "execution_count": 14,
   "id": "a54ee70d",
   "metadata": {},
   "outputs": [
    {
     "name": "stdout",
     "output_type": "stream",
     "text": [
      "<class 'pandas.core.frame.DataFrame'>\n",
      "Int64Index: 4972 entries, 0 to 6301\n",
      "Data columns (total 24 columns):\n",
      " #   Column                  Non-Null Count  Dtype  \n",
      "---  ------                  --------------  -----  \n",
      " 0   Case_Number             4972 non-null   object \n",
      " 1   Date                    4972 non-null   object \n",
      " 2   Year                    4972 non-null   float64\n",
      " 3   Type                    4971 non-null   object \n",
      " 4   Country                 4970 non-null   object \n",
      " 5   Area                    4871 non-null   object \n",
      " 6   Location                4836 non-null   object \n",
      " 7   Activity                4846 non-null   object \n",
      " 8   Name                    4952 non-null   object \n",
      " 9   Sex_                    4763 non-null   object \n",
      " 10  Age                     3193 non-null   object \n",
      " 11  Injury                  4970 non-null   object \n",
      " 12  Fatal_YON               4972 non-null   object \n",
      " 13  Time                    2774 non-null   object \n",
      " 14  Species_                2840 non-null   object \n",
      " 15  Investigator_or_Source  4967 non-null   object \n",
      " 16  pdf                     4972 non-null   object \n",
      " 17  href_formula            4971 non-null   object \n",
      " 18  href                    4972 non-null   object \n",
      " 19  Case_Number_1           4972 non-null   object \n",
      " 20  Case_Number_2           4972 non-null   object \n",
      " 21  original_order          4972 non-null   float64\n",
      " 22  Unnamed_22              1 non-null      object \n",
      " 23  Unnamed_23              2 non-null      object \n",
      "dtypes: float64(2), object(22)\n",
      "memory usage: 971.1+ KB\n"
     ]
    }
   ],
   "source": [
    "data.info()"
   ]
  },
  {
   "cell_type": "code",
   "execution_count": 15,
   "id": "29a36a05",
   "metadata": {},
   "outputs": [
    {
     "data": {
      "text/plain": [
       "Int64Index([   1,    2,    5,    9,   11,   12,   15,   17,   19,   28,\n",
       "            ...\n",
       "            6283, 6284, 6285, 6286, 6288, 6289, 6290, 6297, 6299, 6301],\n",
       "           dtype='int64', length=2132)"
      ]
     },
     "execution_count": 15,
     "metadata": {},
     "output_type": "execute_result"
    }
   ],
   "source": [
    "data[data['Species_'].isna()].index"
   ]
  },
  {
   "cell_type": "code",
   "execution_count": 16,
   "id": "acc7d421",
   "metadata": {},
   "outputs": [],
   "source": [
    "lstloc=data[(data['Country'].isna())&(data['Area'].isna())&(data['Location'].isna())].index"
   ]
  },
  {
   "cell_type": "code",
   "execution_count": 17,
   "id": "37a52b3d",
   "metadata": {},
   "outputs": [],
   "source": [
    "data.drop(index=lstloc,inplace=True)"
   ]
  },
  {
   "cell_type": "code",
   "execution_count": 18,
   "id": "8510a971",
   "metadata": {},
   "outputs": [
    {
     "name": "stdout",
     "output_type": "stream",
     "text": [
      "<class 'pandas.core.frame.DataFrame'>\n",
      "Int64Index: 4972 entries, 0 to 6301\n",
      "Data columns (total 24 columns):\n",
      " #   Column                  Non-Null Count  Dtype  \n",
      "---  ------                  --------------  -----  \n",
      " 0   Case_Number             4972 non-null   object \n",
      " 1   Date                    4972 non-null   object \n",
      " 2   Year                    4972 non-null   float64\n",
      " 3   Type                    4971 non-null   object \n",
      " 4   Country                 4970 non-null   object \n",
      " 5   Area                    4871 non-null   object \n",
      " 6   Location                4836 non-null   object \n",
      " 7   Activity                4846 non-null   object \n",
      " 8   Name                    4952 non-null   object \n",
      " 9   Sex_                    4763 non-null   object \n",
      " 10  Age                     3193 non-null   object \n",
      " 11  Injury                  4970 non-null   object \n",
      " 12  Fatal_YON               4972 non-null   object \n",
      " 13  Time                    2774 non-null   object \n",
      " 14  Species_                2840 non-null   object \n",
      " 15  Investigator_or_Source  4967 non-null   object \n",
      " 16  pdf                     4972 non-null   object \n",
      " 17  href_formula            4971 non-null   object \n",
      " 18  href                    4972 non-null   object \n",
      " 19  Case_Number_1           4972 non-null   object \n",
      " 20  Case_Number_2           4972 non-null   object \n",
      " 21  original_order          4972 non-null   float64\n",
      " 22  Unnamed_22              1 non-null      object \n",
      " 23  Unnamed_23              2 non-null      object \n",
      "dtypes: float64(2), object(22)\n",
      "memory usage: 1.1+ MB\n"
     ]
    }
   ],
   "source": [
    "data.info()"
   ]
  },
  {
   "cell_type": "code",
   "execution_count": 19,
   "id": "a02d92c7",
   "metadata": {},
   "outputs": [],
   "source": [
    "lstpais=data[(data['Country'].isna())].index"
   ]
  },
  {
   "cell_type": "code",
   "execution_count": 20,
   "id": "9cebef5e",
   "metadata": {},
   "outputs": [
    {
     "name": "stdout",
     "output_type": "stream",
     "text": [
      "<class 'pandas.core.frame.DataFrame'>\n",
      "Int64Index: 4970 entries, 0 to 6301\n",
      "Data columns (total 24 columns):\n",
      " #   Column                  Non-Null Count  Dtype  \n",
      "---  ------                  --------------  -----  \n",
      " 0   Case_Number             4970 non-null   object \n",
      " 1   Date                    4970 non-null   object \n",
      " 2   Year                    4970 non-null   float64\n",
      " 3   Type                    4969 non-null   object \n",
      " 4   Country                 4970 non-null   object \n",
      " 5   Area                    4869 non-null   object \n",
      " 6   Location                4835 non-null   object \n",
      " 7   Activity                4844 non-null   object \n",
      " 8   Name                    4950 non-null   object \n",
      " 9   Sex_                    4761 non-null   object \n",
      " 10  Age                     3193 non-null   object \n",
      " 11  Injury                  4968 non-null   object \n",
      " 12  Fatal_YON               4970 non-null   object \n",
      " 13  Time                    2773 non-null   object \n",
      " 14  Species_                2838 non-null   object \n",
      " 15  Investigator_or_Source  4965 non-null   object \n",
      " 16  pdf                     4970 non-null   object \n",
      " 17  href_formula            4969 non-null   object \n",
      " 18  href                    4970 non-null   object \n",
      " 19  Case_Number_1           4970 non-null   object \n",
      " 20  Case_Number_2           4970 non-null   object \n",
      " 21  original_order          4970 non-null   float64\n",
      " 22  Unnamed_22              1 non-null      object \n",
      " 23  Unnamed_23              2 non-null      object \n",
      "dtypes: float64(2), object(22)\n",
      "memory usage: 970.7+ KB\n"
     ]
    }
   ],
   "source": [
    "data.drop(index=lstpais,inplace=True)\n",
    "data.info()"
   ]
  },
  {
   "cell_type": "code",
   "execution_count": null,
   "id": "d9446340",
   "metadata": {},
   "outputs": [],
   "source": [
    "data[data['Year'].isnull()==True]"
   ]
  },
  {
   "cell_type": "code",
   "execution_count": null,
   "id": "73e56063",
   "metadata": {},
   "outputs": [],
   "source": [
    "#Rellena la columna Year\n",
    "data.Year[187]=2017\n",
    "data.Year[6079]=1836"
   ]
  },
  {
   "cell_type": "code",
   "execution_count": null,
   "id": "4641db94",
   "metadata": {},
   "outputs": [],
   "source": [
    "data[data['Year'].isnull()==True]"
   ]
  },
  {
   "cell_type": "markdown",
   "id": "f7164eae",
   "metadata": {},
   "source": [
    "### Arreglar columna href_formula "
   ]
  },
  {
   "cell_type": "code",
   "execution_count": null,
   "id": "f813bfe2",
   "metadata": {},
   "outputs": [],
   "source": [
    "data[data['href_formula'].isnull()==True].index"
   ]
  },
  {
   "cell_type": "code",
   "execution_count": null,
   "id": "68787c92",
   "metadata": {},
   "outputs": [],
   "source": [
    "data.href_formula[5]"
   ]
  },
  {
   "cell_type": "code",
   "execution_count": null,
   "id": "687811d7",
   "metadata": {},
   "outputs": [],
   "source": [
    "data[data['href_formula'].isnull()==True]"
   ]
  },
  {
   "cell_type": "code",
   "execution_count": null,
   "id": "579b2bde",
   "metadata": {},
   "outputs": [],
   "source": [
    "data.href_formula[3244] ='http://sharkattackfile.net/spreadsheets/pdf_directory/1975.01.19-Barrowman.pdf'"
   ]
  },
  {
   "cell_type": "code",
   "execution_count": null,
   "id": "33bc0d8f",
   "metadata": {},
   "outputs": [],
   "source": [
    "#Rellenar el dato sin valor de href_formula\n",
    "data.href_formula[3244]"
   ]
  },
  {
   "cell_type": "markdown",
   "id": "e303f2c7",
   "metadata": {},
   "source": [
    "### Arreglar columna Type "
   ]
  },
  {
   "cell_type": "code",
   "execution_count": null,
   "id": "358a4b17",
   "metadata": {},
   "outputs": [],
   "source": [
    "data.Type.unique()"
   ]
  },
  {
   "cell_type": "code",
   "execution_count": null,
   "id": "594208c0",
   "metadata": {},
   "outputs": [],
   "source": [
    "data.Type.fillna('Unknown',inplace=True)\n"
   ]
  },
  {
   "cell_type": "code",
   "execution_count": null,
   "id": "4881c291",
   "metadata": {},
   "outputs": [],
   "source": [
    "data.Type.replace('Boatomg','Boating',inplace=True)"
   ]
  },
  {
   "cell_type": "code",
   "execution_count": null,
   "id": "d799ff88",
   "metadata": {},
   "outputs": [],
   "source": [
    "data.Type.replace('Boat','Boating',inplace=True)"
   ]
  },
  {
   "cell_type": "code",
   "execution_count": null,
   "id": "e18281ec",
   "metadata": {},
   "outputs": [],
   "source": [
    "data.Type.unique()"
   ]
  },
  {
   "cell_type": "markdown",
   "id": "6535ed0f",
   "metadata": {},
   "source": [
    "### Arreglar columna Unnamed:_23 "
   ]
  },
  {
   "cell_type": "code",
   "execution_count": null,
   "id": "19566efe",
   "metadata": {},
   "outputs": [],
   "source": [
    "#Dame la fila de los NO nulos en Unnamed:_23\n",
    "data[data['Unnamed:_23'].notna()==True]"
   ]
  },
  {
   "cell_type": "code",
   "execution_count": null,
   "id": "00baeeb8",
   "metadata": {},
   "outputs": [],
   "source": [
    "data.info()"
   ]
  },
  {
   "cell_type": "markdown",
   "id": "5d54da32",
   "metadata": {},
   "source": [
    "### Rellenar datos null"
   ]
  },
  {
   "cell_type": "code",
   "execution_count": null,
   "id": "1edb3b04",
   "metadata": {},
   "outputs": [],
   "source": [
    "data.Country.fillna('unknown',inplace=True)"
   ]
  },
  {
   "cell_type": "code",
   "execution_count": null,
   "id": "c07fa3ef",
   "metadata": {},
   "outputs": [],
   "source": [
    "data.Area.fillna('unknown', inplace=True)"
   ]
  },
  {
   "cell_type": "code",
   "execution_count": null,
   "id": "01078c3d",
   "metadata": {},
   "outputs": [],
   "source": [
    "data.Location.fillna('unknown', inplace=True)"
   ]
  },
  {
   "cell_type": "code",
   "execution_count": null,
   "id": "77b53362",
   "metadata": {},
   "outputs": [],
   "source": [
    "data.Activity.fillna('unknown', inplace=True)"
   ]
  },
  {
   "cell_type": "code",
   "execution_count": null,
   "id": "a4adb5a0",
   "metadata": {},
   "outputs": [],
   "source": [
    "data.Name.fillna('unknown',inplace=True)"
   ]
  },
  {
   "cell_type": "code",
   "execution_count": null,
   "id": "9b31de44",
   "metadata": {},
   "outputs": [],
   "source": [
    "data.Age.fillna('unknown',inplace=True)"
   ]
  },
  {
   "cell_type": "code",
   "execution_count": null,
   "id": "963f0d2a",
   "metadata": {},
   "outputs": [],
   "source": [
    "data.Injury.fillna('unknown',inplace=True)"
   ]
  },
  {
   "cell_type": "code",
   "execution_count": null,
   "id": "41e002b5",
   "metadata": {},
   "outputs": [],
   "source": [
    "#data[data['Fatal_(Y/N)'].fillna('unknown',inplace=True)]"
   ]
  },
  {
   "cell_type": "code",
   "execution_count": null,
   "id": "b6ab352b",
   "metadata": {},
   "outputs": [],
   "source": [
    "#data.Time.fillna('unknown',inplace=True)"
   ]
  },
  {
   "cell_type": "code",
   "execution_count": null,
   "id": "3bac8740",
   "metadata": {},
   "outputs": [],
   "source": [
    "data.Species_.fillna('unknown',inplace=True)\n",
    "data.Investigator_or_Source.unique()"
   ]
  },
  {
   "cell_type": "markdown",
   "id": "bc1f9de1",
   "metadata": {},
   "source": [
    "### Arreglar columna Sex_"
   ]
  },
  {
   "cell_type": "code",
   "execution_count": null,
   "id": "b416c8b3",
   "metadata": {},
   "outputs": [],
   "source": [
    "data.Sex_.unique()"
   ]
  },
  {
   "cell_type": "code",
   "execution_count": null,
   "id": "1378712d",
   "metadata": {},
   "outputs": [],
   "source": [
    "data[data['Sex_']=='lli']"
   ]
  },
  {
   "cell_type": "code",
   "execution_count": null,
   "id": "8b0b2fcb",
   "metadata": {},
   "outputs": [],
   "source": [
    "data.Sex_[1624]='M'"
   ]
  },
  {
   "cell_type": "code",
   "execution_count": null,
   "id": "2b22d6e2",
   "metadata": {},
   "outputs": [],
   "source": [
    "data[data['Sex_']=='N']"
   ]
  },
  {
   "cell_type": "code",
   "execution_count": null,
   "id": "46c7c0c5",
   "metadata": {},
   "outputs": [],
   "source": [
    "data.Sex_[4938] = 'unknown'\n",
    "data.Sex_[6131] = 'M'\n",
    "data.Sex_[5437] = 'unknown'"
   ]
  },
  {
   "cell_type": "code",
   "execution_count": null,
   "id": "9bbf1b40",
   "metadata": {},
   "outputs": [],
   "source": [
    "data.Sex_.replace('M ','M',inplace=True)"
   ]
  },
  {
   "cell_type": "code",
   "execution_count": null,
   "id": "d4fdfc11",
   "metadata": {},
   "outputs": [],
   "source": [
    "data.Sex_.replace('M ','M',inplace=True)"
   ]
  },
  {
   "cell_type": "code",
   "execution_count": null,
   "id": "e529a8a7",
   "metadata": {},
   "outputs": [],
   "source": [
    "data.Sex_.fillna('unknown',inplace=True)"
   ]
  },
  {
   "cell_type": "code",
   "execution_count": null,
   "id": "43bb3810",
   "metadata": {},
   "outputs": [],
   "source": [
    "data.Sex_.unique()"
   ]
  },
  {
   "cell_type": "code",
   "execution_count": null,
   "id": "c1e10ae4",
   "metadata": {},
   "outputs": [],
   "source": [
    "data.info()"
   ]
  },
  {
   "cell_type": "code",
   "execution_count": null,
   "id": "d0d8ad7a",
   "metadata": {},
   "outputs": [],
   "source": []
  },
  {
   "cell_type": "code",
   "execution_count": null,
   "id": "83b526f9",
   "metadata": {},
   "outputs": [],
   "source": [
    "#Cambiar nombre columna Y/N\n",
    "#Borrar filas null en Y/N\n",
    "#Borrar filas con country location y area =unknown\n"
   ]
  },
  {
   "cell_type": "code",
   "execution_count": null,
   "id": "9ebd09ee",
   "metadata": {},
   "outputs": [],
   "source": []
  }
 ],
 "metadata": {
  "kernelspec": {
   "display_name": "Python 3 (ipykernel)",
   "language": "python",
   "name": "python3"
  },
  "language_info": {
   "codemirror_mode": {
    "name": "ipython",
    "version": 3
   },
   "file_extension": ".py",
   "mimetype": "text/x-python",
   "name": "python",
   "nbconvert_exporter": "python",
   "pygments_lexer": "ipython3",
   "version": "3.9.7"
  }
 },
 "nbformat": 4,
 "nbformat_minor": 5
}
